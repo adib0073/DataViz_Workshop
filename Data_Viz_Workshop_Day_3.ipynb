{
  "nbformat": 4,
  "nbformat_minor": 0,
  "metadata": {
    "colab": {
      "provenance": [],
      "authorship_tag": "ABX9TyO+xoC52oPruu8Z6hWPmxOv",
      "include_colab_link": true
    },
    "kernelspec": {
      "name": "python3",
      "display_name": "Python 3"
    },
    "language_info": {
      "name": "python"
    }
  },
  "cells": [
    {
      "cell_type": "markdown",
      "metadata": {
        "id": "view-in-github",
        "colab_type": "text"
      },
      "source": [
        "<a href=\"https://colab.research.google.com/github/adib0073/DataViz_Workshop/blob/main/Data_Viz_Workshop_Day_3.ipynb\" target=\"_parent\"><img src=\"https://colab.research.google.com/assets/colab-badge.svg\" alt=\"Open In Colab\"/></a>"
      ]
    },
    {
      "cell_type": "markdown",
      "source": [
        "## Data Visualization Tools and Libraries\n",
        "\n",
        "### Part2: Exploratory Data Analysis in Data Science through Matplotlib, Seaborn, Pandas and NumPy in Python\n",
        "\n",
        "We will cover the following topics in this session:\n",
        "1. Loading Data and Data Inspection using Pandas\n",
        "2. Data Distribution using Histograms\n",
        "3. Univariate Analysis using Bar plots, Count Plots, Scatter Plots\n",
        "4. Univariate Analysis using Kernel Density Plots, Pie Charts, Step Plots\n",
        "5. Bivariate analysis using Pairplots, Box plots, Violin Plots, Stacked plots\n",
        "6. Missing Value Visualization\n",
        "6. Correlation Visualization using Heatmaps\n",
        "7. Customizing Matplotlib and Seaborn Visualization\n",
        "8. Plots for ML Model Evaluation\n",
        "9. Other visualizations: Word Clouds, Sankey Plots, Radar plots\n"
      ],
      "metadata": {
        "id": "nBJN6O0NJl5R"
      }
    },
    {
      "cell_type": "markdown",
      "source": [
        "### About the dataset"
      ],
      "metadata": {
        "id": "6sZEEPL-JaEP"
      }
    },
    {
      "cell_type": "markdown",
      "source": [
        "Heart Disease Dataset- https://www.kaggle.com/datasets/redwankarimsony/heart-disease-data\n",
        "\n",
        "The Heart Disease Dataset is used to solve the problem of classifying whether a patient will have heart disease or not, which is a Binary Classification problem. The data used for this assignment is obtained from Kaggle. This dataset is a processed version of the actual Cleveland database data obtained from UCI Datasets. This problem and the dataset are interesting because the dataset has multiple feature attributes (13 feature attributes) and each of these features are of different types (combination of continuous and categorical values) and the scale of the continuous values are completely different and it will be interesting to see how the Machine Learning algorithms perform on this. Also, the number of records is limited (around 303 records) and there are some outliers observed within the data. So, it will be really interesting to see how our Machine Learning Algorithms can be used to generalize on such a limited dataset with noise. And finally predicting heart disease can have real life use case and application, so that’s why I felt this would be a good problem to investigate.\n"
      ],
      "metadata": {
        "id": "PzuLpZgPKKl7"
      }
    },
    {
      "cell_type": "markdown",
      "source": [
        "### Data Description\n",
        "\n",
        "1. `age` (Age of the patient in years)\n",
        "2. `sex` (Male/Female)\n",
        "3. `cp` : chest pain type ([typical angina, atypical angina, non-anginal, asymptomatic])\n",
        "4. `trestbps` : resting blood pressure (resting blood pressure (in mm Hg on admission to the hospital))\n",
        "5. `chol` (serum cholesterol in mg/dl)\n",
        "6. `fbs` (if fasting blood sugar > 120 mg/dl)\n",
        "7. `restecg` (resting electrocardiographic results) -> Values: [normal, stt abnormality, lv hypertrophy]\n",
        "8. `thalach`: maximum heart rate achieved\n",
        "9. `exang`: exercise-induced angina (True/ False)\n",
        "10. `oldpeak`: ST depression induced by exercise relative to rest\n",
        "11. `slope`: the slope of the peak exercise ST segment\n",
        "12. `ca`: number of major vessels (0-3) colored by fluoroscopy\n",
        "13. `thal`: [normal; fixed defect; reversible defect]\n",
        "14. `num`: the predicted attribute"
      ],
      "metadata": {
        "id": "mjAJjwlmKnjn"
      }
    },
    {
      "cell_type": "markdown",
      "source": [
        "### Importing libraries in Python"
      ],
      "metadata": {
        "id": "9AtZSmgYJLxF"
      }
    },
    {
      "cell_type": "code",
      "source": [
        "# Importing the python libraries\n",
        "import pandas as pd\n",
        "import numpy as np\n",
        "import matplotlib.pyplot as plt\n",
        "import seaborn as sns\n",
        "sns.set(style=\"whitegrid\")"
      ],
      "metadata": {
        "id": "qP_PgutEJKZV"
      },
      "execution_count": 1,
      "outputs": []
    },
    {
      "cell_type": "code",
      "source": [],
      "metadata": {
        "id": "VT43tNUBJXXG"
      },
      "execution_count": null,
      "outputs": []
    }
  ]
}